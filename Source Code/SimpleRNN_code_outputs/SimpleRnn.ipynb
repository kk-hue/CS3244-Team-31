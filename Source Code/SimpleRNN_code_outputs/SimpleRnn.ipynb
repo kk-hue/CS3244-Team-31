{
  "nbformat": 4,
  "nbformat_minor": 0,
  "metadata": {
    "colab": {
      "name": "SimpleRnn.ipynb",
      "provenance": [],
      "collapsed_sections": []
    },
    "kernelspec": {
      "name": "python3",
      "display_name": "Python 3"
    },
    "language_info": {
      "name": "python"
    }
  },
  "cells": [
    {
      "cell_type": "code",
      "metadata": {
        "id": "JR2AfAru6f5z"
      },
      "source": [
        "import numpy as np # linear algebra\n",
        "import pandas as pd # data processing\n",
        "\n",
        "# Input data files are available in the \"../input/\" directory.\n",
        "# import os\n",
        "# for dirname, _, filenames in os.walk('/kaggle/input'):\n",
        "#     for filename in filenames:\n",
        "#         print(os.path.join(dirname, filename))\n",
        "\n",
        "# Any results write to the current directory are saved as output."
      ],
      "execution_count": 1,
      "outputs": []
    },
    {
      "cell_type": "markdown",
      "metadata": {
        "id": "RAckERqrMEpX"
      },
      "source": [
        "Importing of lib and input files above."
      ]
    },
    {
      "cell_type": "code",
      "metadata": {
        "id": "YmL966vXMI7o",
        "colab": {
          "base_uri": "https://localhost:8080/",
          "height": 433
        },
        "outputId": "9f6a0ebc-21fc-449d-9164-881dbe781a61"
      },
      "source": [
        "import json\n",
        "import tensorflow as tf\n",
        "from tensorflow.keras.preprocessing.text import Tokenizer\n",
        "from tensorflow.keras.preprocessing.sequence import pad_sequences\n",
        "from tensorflow.keras.models import Sequential\n",
        "\n",
        "import pandas as pd\n",
        "import numpy as np\n",
        "\n",
        "from sklearn.model_selection import train_test_split\n",
        "\n",
        "file_path = r\"/Users/diwuyi/Desktop/Sarcasm/train-balanced-sarcasm.csv\"\n",
        "\n",
        "# the following code is for reading the full 1m dataset\n",
        "train_balanced_sarcasm = pd.read_csv(\"train-balanced-sarcasm.csv\")\n",
        "\n"
      ],
      "execution_count": 2,
      "outputs": [
        {
          "output_type": "error",
          "ename": "FileNotFoundError",
          "evalue": "ignored",
          "traceback": [
            "\u001b[0;31m---------------------------------------------------------------------------\u001b[0m",
            "\u001b[0;31mFileNotFoundError\u001b[0m                         Traceback (most recent call last)",
            "\u001b[0;32m<ipython-input-2-1b14cc9c9938>\u001b[0m in \u001b[0;36m<module>\u001b[0;34m()\u001b[0m\n\u001b[1;32m     13\u001b[0m \u001b[0;34m\u001b[0m\u001b[0m\n\u001b[1;32m     14\u001b[0m \u001b[0;31m# the following code is for reading the full 1m dataset\u001b[0m\u001b[0;34m\u001b[0m\u001b[0;34m\u001b[0m\u001b[0;34m\u001b[0m\u001b[0m\n\u001b[0;32m---> 15\u001b[0;31m \u001b[0mtrain_balanced_sarcasm\u001b[0m \u001b[0;34m=\u001b[0m \u001b[0mpd\u001b[0m\u001b[0;34m.\u001b[0m\u001b[0mread_csv\u001b[0m\u001b[0;34m(\u001b[0m\u001b[0;34m\"train-balanced-sarcasm.csv\"\u001b[0m\u001b[0;34m)\u001b[0m\u001b[0;34m\u001b[0m\u001b[0;34m\u001b[0m\u001b[0m\n\u001b[0m\u001b[1;32m     16\u001b[0m \u001b[0;34m\u001b[0m\u001b[0m\n",
            "\u001b[0;32m/usr/local/lib/python3.7/dist-packages/pandas/io/parsers.py\u001b[0m in \u001b[0;36mread_csv\u001b[0;34m(filepath_or_buffer, sep, delimiter, header, names, index_col, usecols, squeeze, prefix, mangle_dupe_cols, dtype, engine, converters, true_values, false_values, skipinitialspace, skiprows, skipfooter, nrows, na_values, keep_default_na, na_filter, verbose, skip_blank_lines, parse_dates, infer_datetime_format, keep_date_col, date_parser, dayfirst, cache_dates, iterator, chunksize, compression, thousands, decimal, lineterminator, quotechar, quoting, doublequote, escapechar, comment, encoding, dialect, error_bad_lines, warn_bad_lines, delim_whitespace, low_memory, memory_map, float_precision)\u001b[0m\n\u001b[1;32m    686\u001b[0m     )\n\u001b[1;32m    687\u001b[0m \u001b[0;34m\u001b[0m\u001b[0m\n\u001b[0;32m--> 688\u001b[0;31m     \u001b[0;32mreturn\u001b[0m \u001b[0m_read\u001b[0m\u001b[0;34m(\u001b[0m\u001b[0mfilepath_or_buffer\u001b[0m\u001b[0;34m,\u001b[0m \u001b[0mkwds\u001b[0m\u001b[0;34m)\u001b[0m\u001b[0;34m\u001b[0m\u001b[0;34m\u001b[0m\u001b[0m\n\u001b[0m\u001b[1;32m    689\u001b[0m \u001b[0;34m\u001b[0m\u001b[0m\n\u001b[1;32m    690\u001b[0m \u001b[0;34m\u001b[0m\u001b[0m\n",
            "\u001b[0;32m/usr/local/lib/python3.7/dist-packages/pandas/io/parsers.py\u001b[0m in \u001b[0;36m_read\u001b[0;34m(filepath_or_buffer, kwds)\u001b[0m\n\u001b[1;32m    452\u001b[0m \u001b[0;34m\u001b[0m\u001b[0m\n\u001b[1;32m    453\u001b[0m     \u001b[0;31m# Create the parser.\u001b[0m\u001b[0;34m\u001b[0m\u001b[0;34m\u001b[0m\u001b[0;34m\u001b[0m\u001b[0m\n\u001b[0;32m--> 454\u001b[0;31m     \u001b[0mparser\u001b[0m \u001b[0;34m=\u001b[0m \u001b[0mTextFileReader\u001b[0m\u001b[0;34m(\u001b[0m\u001b[0mfp_or_buf\u001b[0m\u001b[0;34m,\u001b[0m \u001b[0;34m**\u001b[0m\u001b[0mkwds\u001b[0m\u001b[0;34m)\u001b[0m\u001b[0;34m\u001b[0m\u001b[0;34m\u001b[0m\u001b[0m\n\u001b[0m\u001b[1;32m    455\u001b[0m \u001b[0;34m\u001b[0m\u001b[0m\n\u001b[1;32m    456\u001b[0m     \u001b[0;32mif\u001b[0m \u001b[0mchunksize\u001b[0m \u001b[0;32mor\u001b[0m \u001b[0miterator\u001b[0m\u001b[0;34m:\u001b[0m\u001b[0;34m\u001b[0m\u001b[0;34m\u001b[0m\u001b[0m\n",
            "\u001b[0;32m/usr/local/lib/python3.7/dist-packages/pandas/io/parsers.py\u001b[0m in \u001b[0;36m__init__\u001b[0;34m(self, f, engine, **kwds)\u001b[0m\n\u001b[1;32m    946\u001b[0m             \u001b[0mself\u001b[0m\u001b[0;34m.\u001b[0m\u001b[0moptions\u001b[0m\u001b[0;34m[\u001b[0m\u001b[0;34m\"has_index_names\"\u001b[0m\u001b[0;34m]\u001b[0m \u001b[0;34m=\u001b[0m \u001b[0mkwds\u001b[0m\u001b[0;34m[\u001b[0m\u001b[0;34m\"has_index_names\"\u001b[0m\u001b[0;34m]\u001b[0m\u001b[0;34m\u001b[0m\u001b[0;34m\u001b[0m\u001b[0m\n\u001b[1;32m    947\u001b[0m \u001b[0;34m\u001b[0m\u001b[0m\n\u001b[0;32m--> 948\u001b[0;31m         \u001b[0mself\u001b[0m\u001b[0;34m.\u001b[0m\u001b[0m_make_engine\u001b[0m\u001b[0;34m(\u001b[0m\u001b[0mself\u001b[0m\u001b[0;34m.\u001b[0m\u001b[0mengine\u001b[0m\u001b[0;34m)\u001b[0m\u001b[0;34m\u001b[0m\u001b[0;34m\u001b[0m\u001b[0m\n\u001b[0m\u001b[1;32m    949\u001b[0m \u001b[0;34m\u001b[0m\u001b[0m\n\u001b[1;32m    950\u001b[0m     \u001b[0;32mdef\u001b[0m \u001b[0mclose\u001b[0m\u001b[0;34m(\u001b[0m\u001b[0mself\u001b[0m\u001b[0;34m)\u001b[0m\u001b[0;34m:\u001b[0m\u001b[0;34m\u001b[0m\u001b[0;34m\u001b[0m\u001b[0m\n",
            "\u001b[0;32m/usr/local/lib/python3.7/dist-packages/pandas/io/parsers.py\u001b[0m in \u001b[0;36m_make_engine\u001b[0;34m(self, engine)\u001b[0m\n\u001b[1;32m   1178\u001b[0m     \u001b[0;32mdef\u001b[0m \u001b[0m_make_engine\u001b[0m\u001b[0;34m(\u001b[0m\u001b[0mself\u001b[0m\u001b[0;34m,\u001b[0m \u001b[0mengine\u001b[0m\u001b[0;34m=\u001b[0m\u001b[0;34m\"c\"\u001b[0m\u001b[0;34m)\u001b[0m\u001b[0;34m:\u001b[0m\u001b[0;34m\u001b[0m\u001b[0;34m\u001b[0m\u001b[0m\n\u001b[1;32m   1179\u001b[0m         \u001b[0;32mif\u001b[0m \u001b[0mengine\u001b[0m \u001b[0;34m==\u001b[0m \u001b[0;34m\"c\"\u001b[0m\u001b[0;34m:\u001b[0m\u001b[0;34m\u001b[0m\u001b[0;34m\u001b[0m\u001b[0m\n\u001b[0;32m-> 1180\u001b[0;31m             \u001b[0mself\u001b[0m\u001b[0;34m.\u001b[0m\u001b[0m_engine\u001b[0m \u001b[0;34m=\u001b[0m \u001b[0mCParserWrapper\u001b[0m\u001b[0;34m(\u001b[0m\u001b[0mself\u001b[0m\u001b[0;34m.\u001b[0m\u001b[0mf\u001b[0m\u001b[0;34m,\u001b[0m \u001b[0;34m**\u001b[0m\u001b[0mself\u001b[0m\u001b[0;34m.\u001b[0m\u001b[0moptions\u001b[0m\u001b[0;34m)\u001b[0m\u001b[0;34m\u001b[0m\u001b[0;34m\u001b[0m\u001b[0m\n\u001b[0m\u001b[1;32m   1181\u001b[0m         \u001b[0;32melse\u001b[0m\u001b[0;34m:\u001b[0m\u001b[0;34m\u001b[0m\u001b[0;34m\u001b[0m\u001b[0m\n\u001b[1;32m   1182\u001b[0m             \u001b[0;32mif\u001b[0m \u001b[0mengine\u001b[0m \u001b[0;34m==\u001b[0m \u001b[0;34m\"python\"\u001b[0m\u001b[0;34m:\u001b[0m\u001b[0;34m\u001b[0m\u001b[0;34m\u001b[0m\u001b[0m\n",
            "\u001b[0;32m/usr/local/lib/python3.7/dist-packages/pandas/io/parsers.py\u001b[0m in \u001b[0;36m__init__\u001b[0;34m(self, src, **kwds)\u001b[0m\n\u001b[1;32m   2008\u001b[0m         \u001b[0mkwds\u001b[0m\u001b[0;34m[\u001b[0m\u001b[0;34m\"usecols\"\u001b[0m\u001b[0;34m]\u001b[0m \u001b[0;34m=\u001b[0m \u001b[0mself\u001b[0m\u001b[0;34m.\u001b[0m\u001b[0musecols\u001b[0m\u001b[0;34m\u001b[0m\u001b[0;34m\u001b[0m\u001b[0m\n\u001b[1;32m   2009\u001b[0m \u001b[0;34m\u001b[0m\u001b[0m\n\u001b[0;32m-> 2010\u001b[0;31m         \u001b[0mself\u001b[0m\u001b[0;34m.\u001b[0m\u001b[0m_reader\u001b[0m \u001b[0;34m=\u001b[0m \u001b[0mparsers\u001b[0m\u001b[0;34m.\u001b[0m\u001b[0mTextReader\u001b[0m\u001b[0;34m(\u001b[0m\u001b[0msrc\u001b[0m\u001b[0;34m,\u001b[0m \u001b[0;34m**\u001b[0m\u001b[0mkwds\u001b[0m\u001b[0;34m)\u001b[0m\u001b[0;34m\u001b[0m\u001b[0;34m\u001b[0m\u001b[0m\n\u001b[0m\u001b[1;32m   2011\u001b[0m         \u001b[0mself\u001b[0m\u001b[0;34m.\u001b[0m\u001b[0munnamed_cols\u001b[0m \u001b[0;34m=\u001b[0m \u001b[0mself\u001b[0m\u001b[0;34m.\u001b[0m\u001b[0m_reader\u001b[0m\u001b[0;34m.\u001b[0m\u001b[0munnamed_cols\u001b[0m\u001b[0;34m\u001b[0m\u001b[0;34m\u001b[0m\u001b[0m\n\u001b[1;32m   2012\u001b[0m \u001b[0;34m\u001b[0m\u001b[0m\n",
            "\u001b[0;32mpandas/_libs/parsers.pyx\u001b[0m in \u001b[0;36mpandas._libs.parsers.TextReader.__cinit__\u001b[0;34m()\u001b[0m\n",
            "\u001b[0;32mpandas/_libs/parsers.pyx\u001b[0m in \u001b[0;36mpandas._libs.parsers.TextReader._setup_parser_source\u001b[0;34m()\u001b[0m\n",
            "\u001b[0;31mFileNotFoundError\u001b[0m: [Errno 2] No such file or directory: 'train-balanced-sarcasm.csv'"
          ]
        }
      ]
    },
    {
      "cell_type": "code",
      "metadata": {
        "id": "mX-yPFyiPcck"
      },
      "source": [
        "# 100K SIZED \n",
        "# the following code is used to generate 100k sized dataset to perform hypothesis testing \n",
        "# and to compare with SVM model\n",
        "\n",
        "dataframe = pd.read_csv(\"train-balanced-sarcasm.csv\")\n",
        "dataframe.dropna(axis=0, how='any', inplace=True)\n",
        "#select the rows where labels are non-sarcastic, then choose the first 50000 rows\n",
        "dataframe_zero = dataframe[dataframe['label']==0]\n",
        "dataframe_zero = dataframe_zero[0:50000]\n",
        "#select the rows where labels are sarcastic, then choose the first 50000 rows\n",
        "dataframe_one = dataframe[dataframe['label']==1]\n",
        "dataframe_one = dataframe_one[0:50000]\n",
        "#combine the two sub-dataframe into a balanced training dataset\n",
        "dataframe_selected = pd.concat([dataframe_zero, dataframe_one], ignore_index = True)\n",
        "dataframe_selected\n",
        "\n",
        "Train_X, Test_X, Train_Y, Test_Y = train_test_split(dataframe_selected[['comment', 'subreddit']],dataframe_selected[['label']],test_size=0.2, random_state=42)\n",
        "\n",
        "# /content/train-balanced-sarcasm.csv\n"
      ],
      "execution_count": 82,
      "outputs": []
    },
    {
      "cell_type": "code",
      "metadata": {
        "id": "MIT-zWryPXkT"
      },
      "source": [
        "# 1K SIZED \n",
        "# the following three lines are for meso-level analysis or subgroup analysis on 1k sized dataset\n",
        "# training-balanced-sarcasm and testing-balanced-sarcasm are generated from original train-balanced-sarcasm.csv\n",
        "xls = pd.ExcelFile('balanced-sarcasm_1k.xlsx')\n",
        "Train = pd.read_excel(xls, 'training-balanced-sarcasm')\n",
        "Test = pd.read_excel(xls, 'testing-balanced-sarcasm')"
      ],
      "execution_count": 5,
      "outputs": []
    },
    {
      "cell_type": "markdown",
      "metadata": {
        "id": "7Y8RETI7K4Tt"
      },
      "source": [
        "The following two cells are for visualisation of current train and test datasets. Depending on the version (1k sized, 100k sized or the whole dataset), uncomment the relevant lines to see the data structure."
      ]
    },
    {
      "cell_type": "code",
      "metadata": {
        "id": "cfthumns4Xsj",
        "colab": {
          "base_uri": "https://localhost:8080/",
          "height": 424
        },
        "outputId": "bd52f3ad-6911-491c-9d52-4e2543c13152"
      },
      "source": [
        "# train_balanced_sarcasm\n",
        "\n",
        "# Train_X\n",
        "# Test_X\n",
        "Train\n",
        "# Test_Y\n",
        "# Test"
      ],
      "execution_count": 7,
      "outputs": [
        {
          "output_type": "execute_result",
          "data": {
            "text/html": [
              "<div>\n",
              "<style scoped>\n",
              "    .dataframe tbody tr th:only-of-type {\n",
              "        vertical-align: middle;\n",
              "    }\n",
              "\n",
              "    .dataframe tbody tr th {\n",
              "        vertical-align: top;\n",
              "    }\n",
              "\n",
              "    .dataframe thead th {\n",
              "        text-align: right;\n",
              "    }\n",
              "</style>\n",
              "<table border=\"1\" class=\"dataframe\">\n",
              "  <thead>\n",
              "    <tr style=\"text-align: right;\">\n",
              "      <th></th>\n",
              "      <th>Unnamed: 0</th>\n",
              "      <th>comment</th>\n",
              "      <th>label</th>\n",
              "    </tr>\n",
              "  </thead>\n",
              "  <tbody>\n",
              "    <tr>\n",
              "      <th>0</th>\n",
              "      <td>687</td>\n",
              "      <td>You know, *in some countries*, women with two ...</td>\n",
              "      <td>1</td>\n",
              "    </tr>\n",
              "    <tr>\n",
              "      <th>1</th>\n",
              "      <td>500</td>\n",
              "      <td>But they'll have all those reviews!</td>\n",
              "      <td>1</td>\n",
              "    </tr>\n",
              "    <tr>\n",
              "      <th>2</th>\n",
              "      <td>332</td>\n",
              "      <td>This is why mom left</td>\n",
              "      <td>0</td>\n",
              "    </tr>\n",
              "    <tr>\n",
              "      <th>3</th>\n",
              "      <td>979</td>\n",
              "      <td>because the president alone creates economic a...</td>\n",
              "      <td>1</td>\n",
              "    </tr>\n",
              "    <tr>\n",
              "      <th>4</th>\n",
              "      <td>817</td>\n",
              "      <td>But muh circlejerk</td>\n",
              "      <td>1</td>\n",
              "    </tr>\n",
              "    <tr>\n",
              "      <th>...</th>\n",
              "      <td>...</td>\n",
              "      <td>...</td>\n",
              "      <td>...</td>\n",
              "    </tr>\n",
              "    <tr>\n",
              "      <th>795</th>\n",
              "      <td>835</td>\n",
              "      <td>Just keeping an eye out for voter fraud</td>\n",
              "      <td>1</td>\n",
              "    </tr>\n",
              "    <tr>\n",
              "      <th>796</th>\n",
              "      <td>192</td>\n",
              "      <td>The issue many people have with it is that it ...</td>\n",
              "      <td>0</td>\n",
              "    </tr>\n",
              "    <tr>\n",
              "      <th>797</th>\n",
              "      <td>629</td>\n",
              "      <td>Pretty sure it's a single, uncompressed video ...</td>\n",
              "      <td>1</td>\n",
              "    </tr>\n",
              "    <tr>\n",
              "      <th>798</th>\n",
              "      <td>559</td>\n",
              "      <td>yeah, god forbid jesse look out for his fans b...</td>\n",
              "      <td>1</td>\n",
              "    </tr>\n",
              "    <tr>\n",
              "      <th>799</th>\n",
              "      <td>684</td>\n",
              "      <td>I think his username was \"fire-for-effect with...</td>\n",
              "      <td>1</td>\n",
              "    </tr>\n",
              "  </tbody>\n",
              "</table>\n",
              "<p>800 rows × 3 columns</p>\n",
              "</div>"
            ],
            "text/plain": [
              "     Unnamed: 0                                            comment  label\n",
              "0           687  You know, *in some countries*, women with two ...      1\n",
              "1           500                But they'll have all those reviews!      1\n",
              "2           332                               This is why mom left      0\n",
              "3           979  because the president alone creates economic a...      1\n",
              "4           817                                 But muh circlejerk      1\n",
              "..          ...                                                ...    ...\n",
              "795         835            Just keeping an eye out for voter fraud      1\n",
              "796         192  The issue many people have with it is that it ...      0\n",
              "797         629  Pretty sure it's a single, uncompressed video ...      1\n",
              "798         559  yeah, god forbid jesse look out for his fans b...      1\n",
              "799         684  I think his username was \"fire-for-effect with...      1\n",
              "\n",
              "[800 rows x 3 columns]"
            ]
          },
          "metadata": {},
          "execution_count": 7
        }
      ]
    },
    {
      "cell_type": "code",
      "metadata": {
        "id": "rui0k4zi4dNa",
        "colab": {
          "base_uri": "https://localhost:8080/",
          "height": 424
        },
        "outputId": "262a83a1-8d67-420e-da5b-a4e1800da5c3"
      },
      "source": [
        "df1 = train_balanced_sarcasm[['label', 'comment']].dropna()\n",
        "df1"
      ],
      "execution_count": 97,
      "outputs": [
        {
          "output_type": "execute_result",
          "data": {
            "text/html": [
              "<div>\n",
              "<style scoped>\n",
              "    .dataframe tbody tr th:only-of-type {\n",
              "        vertical-align: middle;\n",
              "    }\n",
              "\n",
              "    .dataframe tbody tr th {\n",
              "        vertical-align: top;\n",
              "    }\n",
              "\n",
              "    .dataframe thead th {\n",
              "        text-align: right;\n",
              "    }\n",
              "</style>\n",
              "<table border=\"1\" class=\"dataframe\">\n",
              "  <thead>\n",
              "    <tr style=\"text-align: right;\">\n",
              "      <th></th>\n",
              "      <th>label</th>\n",
              "      <th>comment</th>\n",
              "    </tr>\n",
              "  </thead>\n",
              "  <tbody>\n",
              "    <tr>\n",
              "      <th>0</th>\n",
              "      <td>0</td>\n",
              "      <td>NC and NH.</td>\n",
              "    </tr>\n",
              "    <tr>\n",
              "      <th>1</th>\n",
              "      <td>0</td>\n",
              "      <td>You do know west teams play against west teams...</td>\n",
              "    </tr>\n",
              "    <tr>\n",
              "      <th>2</th>\n",
              "      <td>0</td>\n",
              "      <td>They were underdogs earlier today, but since G...</td>\n",
              "    </tr>\n",
              "    <tr>\n",
              "      <th>3</th>\n",
              "      <td>0</td>\n",
              "      <td>This meme isn't funny none of the \"new york ni...</td>\n",
              "    </tr>\n",
              "    <tr>\n",
              "      <th>4</th>\n",
              "      <td>0</td>\n",
              "      <td>I could use one of those tools.</td>\n",
              "    </tr>\n",
              "    <tr>\n",
              "      <th>...</th>\n",
              "      <td>...</td>\n",
              "      <td>...</td>\n",
              "    </tr>\n",
              "    <tr>\n",
              "      <th>1010821</th>\n",
              "      <td>1</td>\n",
              "      <td>I'm sure that Iran and N. Korea have the techn...</td>\n",
              "    </tr>\n",
              "    <tr>\n",
              "      <th>1010822</th>\n",
              "      <td>1</td>\n",
              "      <td>whatever you do, don't vote green!</td>\n",
              "    </tr>\n",
              "    <tr>\n",
              "      <th>1010823</th>\n",
              "      <td>1</td>\n",
              "      <td>Perhaps this is an atheist conspiracy to make ...</td>\n",
              "    </tr>\n",
              "    <tr>\n",
              "      <th>1010824</th>\n",
              "      <td>1</td>\n",
              "      <td>The Slavs got their own country - it is called...</td>\n",
              "    </tr>\n",
              "    <tr>\n",
              "      <th>1010825</th>\n",
              "      <td>1</td>\n",
              "      <td>values, as in capitalism .. there is good mone...</td>\n",
              "    </tr>\n",
              "  </tbody>\n",
              "</table>\n",
              "<p>1010773 rows × 2 columns</p>\n",
              "</div>"
            ],
            "text/plain": [
              "         label                                            comment\n",
              "0            0                                         NC and NH.\n",
              "1            0  You do know west teams play against west teams...\n",
              "2            0  They were underdogs earlier today, but since G...\n",
              "3            0  This meme isn't funny none of the \"new york ni...\n",
              "4            0                    I could use one of those tools.\n",
              "...        ...                                                ...\n",
              "1010821      1  I'm sure that Iran and N. Korea have the techn...\n",
              "1010822      1                 whatever you do, don't vote green!\n",
              "1010823      1  Perhaps this is an atheist conspiracy to make ...\n",
              "1010824      1  The Slavs got their own country - it is called...\n",
              "1010825      1  values, as in capitalism .. there is good mone...\n",
              "\n",
              "[1010773 rows x 2 columns]"
            ]
          },
          "metadata": {},
          "execution_count": 97
        }
      ]
    },
    {
      "cell_type": "markdown",
      "metadata": {
        "id": "ILN59uZMLNL6"
      },
      "source": [
        "The following cell contains hyperparameters for word embeddings. "
      ]
    },
    {
      "cell_type": "code",
      "metadata": {
        "id": "k5V5dGZO4ku7"
      },
      "source": [
        "embedding_dim = 16\n",
        "max_length = 100\n",
        "trunc_type='post'\n",
        "padding_type='post'\n",
        "oov_tok = \"<OOV>\"\n",
        "\n",
        "# training_size = int(round(df1['label'].count(), -1) * 0.8)\n",
        "# print(training_size)"
      ],
      "execution_count": 8,
      "outputs": []
    },
    {
      "cell_type": "code",
      "metadata": {
        "colab": {
          "base_uri": "https://localhost:8080/"
        },
        "id": "SeQBQZowRUxc",
        "outputId": "b415eae7-7d35-4218-aa3a-db2fea6014a0"
      },
      "source": [
        "koment1 = Train_X['comment']\n",
        "koment2 = Train_X['subreddit'].apply(str)\n",
        "# print(koment2)\n",
        "# for k in koment2:\n",
        "#   print(type(k))\n",
        "# print(len(koment2))\n",
        "# string_score = []\n",
        "# for i in range(len(koment2)):\n",
        "#   print(koment2[i])\n",
        "#   string_score.append(str(koment2[i]))\n",
        "# string_score = np.array(string_score)\n",
        "# string_score = pd.Series(string_score)\n",
        "# koment = [koment1, koment2]\n",
        "# koment = pd.concat(koment)\n",
        "# koment = koment.to_frame()\n",
        "# koment = koment.applymap(str)\n",
        "koment = koment1+koment2\n",
        "print(type(koment))\n",
        "labels = Train_Y['label']\n",
        "train_data = koment\n",
        "train_label = labels\n",
        "test_data1 = Test_X['comment']\n",
        "test_data2 = Test_X['subreddit'].apply(str)\n",
        "# string_score_test = []\n",
        "# for i in range(len(test_data2)):\n",
        "#   string_score_test.append(str(test_data2[i]))\n",
        "# string_score_test = np.array(string_score_test)\n",
        "# string_score_test = pd.Series(string_score_test)\n",
        "# test_data = [test_data1, test_data2]\n",
        "# test_data = pd.concat(test_data)\n",
        "# test_data = test_data.to_frame()\n",
        "# test_data = test_data.applymap(str)\n",
        "test_data = test_data1 + test_data2\n",
        "test_label = Test_Y['label']\n",
        "# print(type(koment))"
      ],
      "execution_count": 85,
      "outputs": [
        {
          "output_type": "stream",
          "name": "stdout",
          "text": [
            "<class 'pandas.core.series.Series'>\n"
          ]
        }
      ]
    },
    {
      "cell_type": "code",
      "metadata": {
        "id": "Wvm105jj4p_L"
      },
      "source": [
        "# # koment = df1['comment']\n",
        "koment = Train['comment']\n",
        "labels = Train['label']\n",
        "train_data = koment\n",
        "train_label = labels\n",
        "test_data = Test['comment']\n",
        "test_label = Test['label']\n",
        "# train_data = train_data.where(lambda x : len(x) > 15).dropna()\n",
        "# print(type(train_data))\n",
        "# train_data = train_data.loc(len(train_data['comment']) > 15)\n",
        "# print(type(train_data))\n",
        "filtered_train_data = []\n",
        "filtered_train_label = []\n",
        "for i in range(len(train_data)):\n",
        "  if len(train_data[i]) > 60:\n",
        "    continue\n",
        "  else:\n",
        "    filtered_train_data.append(train_data[i])\n",
        "    filtered_train_label.append(train_label[i])\n",
        "\n",
        "filtered_test_data = []\n",
        "filtered_test_label = []\n",
        "for j in range(len(test_data)):\n",
        "  if len(test_data[j]) > 60:\n",
        "    continue\n",
        "  else:\n",
        "    filtered_test_data.append(test_data[j])\n",
        "    filtered_test_label.append(test_label[j])\n",
        "filtered_train_data = np.array(filtered_train_data)\n",
        "filtered_train_label = np.array(filtered_train_label)\n",
        "filtered_test_data = np.array(filtered_test_data)\n",
        "filtered_test_label = np.array(filtered_test_label)\n",
        "filtered_train_data = pd.Series(filtered_train_data)\n",
        "filtered_train_label = pd.Series(filtered_train_label)\n",
        "filtered_test_data = pd.Series(filtered_test_data)\n",
        "filtered_test_label = pd.Series(filtered_test_label)\n",
        "# print(len(filtered_train_data))\n",
        "# print(type(filtered_train_data))\n",
        "# print(len(filtered_train_data))\n",
        "# print(len(filtered_test_data))\n",
        "\n"
      ],
      "execution_count": 9,
      "outputs": []
    },
    {
      "cell_type": "markdown",
      "metadata": {
        "id": "L0upBwF4BRTe"
      },
      "source": [
        "The following cell contains code for convertin the whole 1m dataset to dataframe.\n"
      ]
    },
    {
      "cell_type": "code",
      "metadata": {
        "colab": {
          "base_uri": "https://localhost:8080/",
          "height": 236
        },
        "id": "ZQPcmMAYhGT6",
        "outputId": "91b23ca5-bb3f-414c-cc44-5394ceebecf4"
      },
      "source": [
        "koment = df1['comment']\n",
        "labels = df1['label']\n",
        "\n",
        "train_data = koment[0:training_size]\n",
        "train_label = labels[0:training_size]\n",
        "test_data = koment[training_size:]\n",
        "test_label = labels[training_size:]"
      ],
      "execution_count": 10,
      "outputs": [
        {
          "output_type": "error",
          "ename": "NameError",
          "evalue": "ignored",
          "traceback": [
            "\u001b[0;31m---------------------------------------------------------------------------\u001b[0m",
            "\u001b[0;31mNameError\u001b[0m                                 Traceback (most recent call last)",
            "\u001b[0;32m<ipython-input-10-6dddd36e34a6>\u001b[0m in \u001b[0;36m<module>\u001b[0;34m()\u001b[0m\n\u001b[0;32m----> 1\u001b[0;31m \u001b[0mkoment\u001b[0m \u001b[0;34m=\u001b[0m \u001b[0mdf1\u001b[0m\u001b[0;34m[\u001b[0m\u001b[0;34m'comment'\u001b[0m\u001b[0;34m]\u001b[0m\u001b[0;34m\u001b[0m\u001b[0;34m\u001b[0m\u001b[0m\n\u001b[0m\u001b[1;32m      2\u001b[0m \u001b[0mlabels\u001b[0m \u001b[0;34m=\u001b[0m \u001b[0mdf1\u001b[0m\u001b[0;34m[\u001b[0m\u001b[0;34m'label'\u001b[0m\u001b[0;34m]\u001b[0m\u001b[0;34m\u001b[0m\u001b[0;34m\u001b[0m\u001b[0m\n\u001b[1;32m      3\u001b[0m \u001b[0;34m\u001b[0m\u001b[0m\n\u001b[1;32m      4\u001b[0m \u001b[0mtrain_data\u001b[0m \u001b[0;34m=\u001b[0m \u001b[0mkoment\u001b[0m\u001b[0;34m[\u001b[0m\u001b[0;36m0\u001b[0m\u001b[0;34m:\u001b[0m\u001b[0mtraining_size\u001b[0m\u001b[0;34m]\u001b[0m\u001b[0;34m\u001b[0m\u001b[0;34m\u001b[0m\u001b[0m\n\u001b[1;32m      5\u001b[0m \u001b[0mtrain_label\u001b[0m \u001b[0;34m=\u001b[0m \u001b[0mlabels\u001b[0m\u001b[0;34m[\u001b[0m\u001b[0;36m0\u001b[0m\u001b[0;34m:\u001b[0m\u001b[0mtraining_size\u001b[0m\u001b[0;34m]\u001b[0m\u001b[0;34m\u001b[0m\u001b[0;34m\u001b[0m\u001b[0m\n",
            "\u001b[0;31mNameError\u001b[0m: name 'df1' is not defined"
          ]
        }
      ]
    },
    {
      "cell_type": "code",
      "metadata": {
        "id": "Xk_uEepa5zAW"
      },
      "source": [
        "vocab_size = 8000\n",
        "tokenizer = Tokenizer(num_words=vocab_size,oov_token=oov_tok)\n",
        "tokenizer.fit_on_texts(train_data)\n",
        "\n",
        "word_index = tokenizer.word_index\n",
        "\n",
        "\n",
        "train_seq = tokenizer.texts_to_sequences(train_data)\n",
        "train_pad = pad_sequences(train_seq, maxlen=max_length, padding=padding_type, truncating=trunc_type)\n",
        "\n",
        "test_seq = tokenizer.texts_to_sequences(test_data)\n",
        "test_pad = pad_sequences(test_seq, maxlen=max_length, padding=padding_type, truncating=trunc_type)"
      ],
      "execution_count": 11,
      "outputs": []
    },
    {
      "cell_type": "code",
      "metadata": {
        "id": "O7ilUTln6Gxt"
      },
      "source": [
        "# print(vocab_size)\n",
        "# print(word_index)"
      ],
      "execution_count": null,
      "outputs": []
    },
    {
      "cell_type": "code",
      "metadata": {
        "id": "bOswDlPw6Zol",
        "colab": {
          "base_uri": "https://localhost:8080/"
        },
        "outputId": "8ec1a673-1215-4ed5-b0e1-2c72161ecd31"
      },
      "source": [
        "train_seq = np.array(train_seq)\n",
        "train_pad = np.array(train_pad)\n",
        "test_seq = np.array(test_seq)\n",
        "test_pad = np.array(test_pad)"
      ],
      "execution_count": 12,
      "outputs": [
        {
          "output_type": "stream",
          "name": "stderr",
          "text": [
            "/usr/local/lib/python3.7/dist-packages/ipykernel_launcher.py:1: VisibleDeprecationWarning: Creating an ndarray from ragged nested sequences (which is a list-or-tuple of lists-or-tuples-or ndarrays with different lengths or shapes) is deprecated. If you meant to do this, you must specify 'dtype=object' when creating the ndarray\n",
            "  \"\"\"Entry point for launching an IPython kernel.\n",
            "/usr/local/lib/python3.7/dist-packages/ipykernel_launcher.py:3: VisibleDeprecationWarning: Creating an ndarray from ragged nested sequences (which is a list-or-tuple of lists-or-tuples-or ndarrays with different lengths or shapes) is deprecated. If you meant to do this, you must specify 'dtype=object' when creating the ndarray\n",
            "  This is separate from the ipykernel package so we can avoid doing imports until\n"
          ]
        }
      ]
    },
    {
      "cell_type": "code",
      "metadata": {
        "id": "-UErJgeY6c4U"
      },
      "source": [
        "model = Sequential()\n",
        "model.add(tf.keras.layers.Embedding(vocab_size, embedding_dim, input_length=max_length))\n",
        "model.add(tf.keras.layers.Bidirectional(tf.keras.layers.SimpleRNN(64)))\n",
        "\n",
        "model.add(tf.keras.layers.Dropout(0.5))\n",
        "model.add(tf.keras.layers.Dense(1, activation='sigmoid'))\n",
        "\n",
        "model.compile(loss='binary_crossentropy',optimizer='adam',metrics=['accuracy','Recall','Precision'])\n"
      ],
      "execution_count": 13,
      "outputs": []
    },
    {
      "cell_type": "code",
      "metadata": {
        "id": "-fZ3IiKm6f8R",
        "colab": {
          "base_uri": "https://localhost:8080/"
        },
        "outputId": "d34f1d19-584a-4cbc-cc61-494707a8da22"
      },
      "source": [
        "model.summary()"
      ],
      "execution_count": 14,
      "outputs": [
        {
          "output_type": "stream",
          "name": "stdout",
          "text": [
            "Model: \"sequential\"\n",
            "_________________________________________________________________\n",
            " Layer (type)                Output Shape              Param #   \n",
            "=================================================================\n",
            " embedding (Embedding)       (None, 100, 16)           128000    \n",
            "                                                                 \n",
            " bidirectional (Bidirectiona  (None, 128)              10368     \n",
            " l)                                                              \n",
            "                                                                 \n",
            " dropout (Dropout)           (None, 128)               0         \n",
            "                                                                 \n",
            " dense (Dense)               (None, 1)                 129       \n",
            "                                                                 \n",
            "=================================================================\n",
            "Total params: 138,497\n",
            "Trainable params: 138,497\n",
            "Non-trainable params: 0\n",
            "_________________________________________________________________\n"
          ]
        }
      ]
    },
    {
      "cell_type": "code",
      "metadata": {
        "id": "sUntFFIM6l0S",
        "colab": {
          "base_uri": "https://localhost:8080/"
        },
        "outputId": "57b90a5b-282b-4e74-8336-7df7f9310b3f"
      },
      "source": [
        "num_epochs = 5\n",
        "batch_size = 32\n",
        "\n",
        "history = model.fit(train_pad, train_label, epochs=num_epochs, batch_size=batch_size, validation_split=0.1, verbose=1)"
      ],
      "execution_count": 15,
      "outputs": [
        {
          "output_type": "stream",
          "name": "stdout",
          "text": [
            "Epoch 1/5\n",
            "23/23 [==============================] - 4s 76ms/step - loss: 0.7043 - accuracy: 0.5069 - recall: 0.4391 - precision: 0.4968 - val_loss: 0.6922 - val_accuracy: 0.5000 - val_recall: 0.4222 - val_precision: 0.5758\n",
            "Epoch 2/5\n",
            "23/23 [==============================] - 1s 44ms/step - loss: 0.6732 - accuracy: 0.5875 - recall: 0.5411 - precision: 0.5859 - val_loss: 0.7177 - val_accuracy: 0.4250 - val_recall: 0.2667 - val_precision: 0.4800\n",
            "Epoch 3/5\n",
            "23/23 [==============================] - 1s 47ms/step - loss: 0.6336 - accuracy: 0.6625 - recall: 0.6176 - precision: 0.6687 - val_loss: 0.6711 - val_accuracy: 0.5750 - val_recall: 0.6889 - val_precision: 0.6078\n",
            "Epoch 4/5\n",
            "23/23 [==============================] - 1s 44ms/step - loss: 0.6409 - accuracy: 0.6375 - recall: 0.5354 - precision: 0.6608 - val_loss: 0.8342 - val_accuracy: 0.5625 - val_recall: 1.0000 - val_precision: 0.5625\n",
            "Epoch 5/5\n",
            "23/23 [==============================] - 1s 44ms/step - loss: 0.6245 - accuracy: 0.6917 - recall: 0.6941 - precision: 0.6825 - val_loss: 0.6890 - val_accuracy: 0.5500 - val_recall: 0.5333 - val_precision: 0.6154\n"
          ]
        }
      ]
    },
    {
      "cell_type": "code",
      "metadata": {
        "id": "BKC7qnZu6oa7",
        "colab": {
          "base_uri": "https://localhost:8080/"
        },
        "outputId": "6836aa48-36d0-4d40-fa77-a6a818a26803"
      },
      "source": [
        "accr = model.evaluate(test_pad,test_label)"
      ],
      "execution_count": 16,
      "outputs": [
        {
          "output_type": "stream",
          "name": "stdout",
          "text": [
            "7/7 [==============================] - 0s 12ms/step - loss: 0.6866 - accuracy: 0.5600 - recall: 0.5882 - precision: 0.5660\n"
          ]
        }
      ]
    },
    {
      "cell_type": "markdown",
      "metadata": {
        "id": "EL2CDaoEN2vz"
      },
      "source": [
        "Explanation for improved model performances on both long and short comments as sub-groups: The filtering of comments allow the model to specialise on the sub group, leading to improvement in performance for both groups. The improvement in short comments group is more significant because the limit on maximum length of comments is unlikely to affect short comments' embedding whereas long comments may get truncated due to the limit."
      ]
    },
    {
      "cell_type": "code",
      "metadata": {
        "id": "fsPWJbQa6rmf",
        "colab": {
          "base_uri": "https://localhost:8080/",
          "height": 542
        },
        "outputId": "5a2ae4f8-7050-44d7-c3d5-451c716a336c"
      },
      "source": [
        "import matplotlib.pyplot as plt\n",
        "\n",
        "\n",
        "def plot_graphs(history, string):\n",
        "  plt.plot(history.history[string])\n",
        "  plt.plot(history.history['val_'+string])\n",
        "  plt.xlabel(\"Epochs\")\n",
        "  plt.ylabel(string)\n",
        "  plt.legend([string, 'val_'+string])\n",
        "  plt.show()\n",
        "  \n",
        "plot_graphs(history, \"accuracy\")\n",
        "plot_graphs(history, \"loss\")"
      ],
      "execution_count": 17,
      "outputs": [
        {
          "output_type": "display_data",
          "data": {
            "image/png": "[encoded data removed]",
            "text/plain": [
              "<Figure size 432x288 with 1 Axes>"
            ]
          },
          "metadata": {
            "needs_background": "light"
          }
        },
        {
          "output_type": "display_data",
          "data": {
            "image/png": "[encoded data removed]",
            "text/plain": [
              "<Figure size 432x288 with 1 Axes>"
            ]
          },
          "metadata": {
            "needs_background": "light"
          }
        }
      ]
    }
  ]
}